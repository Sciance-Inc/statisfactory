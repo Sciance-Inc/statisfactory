{
 "cells": [
  {
   "cell_type": "code",
   "execution_count": 1,
   "metadata": {},
   "outputs": [
    {
     "name": "stderr",
     "output_type": "stream",
     "text": [
      "2022-07-14 09:24:28,694 [statisfactory.IO.artifacts.backend] : DEBUG : Registering 's3' backend\n",
      "2022-07-14 09:24:28,695 [statisfactory.IO.artifacts.backend] : DEBUG : Registering '' backend\n",
      "2022-07-14 09:24:28,696 [statisfactory.IO.artifacts.backend] : DEBUG : Registering 'lakefs' backend\n",
      "2022-07-14 09:24:28,701 [statisfactory.IO.artifacts.artifact_interactor] : DEBUG : registering 'csv' interactor\n",
      "2022-07-14 09:24:28,702 [statisfactory.IO.artifacts.artifact_interactor] : DEBUG : registering 'xslx' interactor\n",
      "2022-07-14 09:24:28,703 [statisfactory.IO.artifacts.artifact_interactor] : DEBUG : registering 'pickle' interactor\n",
      "2022-07-14 09:24:28,705 [statisfactory.IO.artifacts.artifact_interactor] : DEBUG : registering 'odbc' interactor\n",
      "2022-07-14 09:24:28,706 [statisfactory.IO.artifacts.artifact_interactor] : DEBUG : registering 'datapane' interactor\n",
      "2022-07-14 09:24:28,707 [statisfactory.IO.artifacts.artifact_interactor] : DEBUG : registering 'binary' interactor\n",
      "2022-07-14 09:24:28,708 [statisfactory.IO.artifacts.artifact_interactor] : DEBUG : registering 'feather' interactor\n",
      "2022-07-14 09:24:29,072 [statisfactory.operator.mixinHookable] : DEBUG : Registering Pipeline's on-error hook : 'propagate'\n",
      "2022-07-14 09:24:29,073 [statisfactory.operator.mixinHookable] : DEBUG : Registering _Craft's on-error hook : 'propagate'\n",
      "2022-07-14 09:24:29,267 [statisfactory.session.base_session] : DEBUG : Registering session's hook : 'set_path_and_pythonpath'\n",
      "2022-07-14 09:24:29,268 [statisfactory.session.base_session] : DEBUG : Registering session's hook : 'set_settings'\n",
      "2022-07-14 09:24:29,269 [statisfactory.session.base_session] : DEBUG : Registering session's hook : 'set_catalog'\n",
      "2022-07-14 09:24:29,269 [statisfactory.session.base_session] : DEBUG : Registering session's hook : 'set_parameters'\n",
      "2022-07-14 09:24:29,269 [statisfactory.session.base_session] : DEBUG : Registering session's hook : 'set_pipelines_definitions'\n",
      "2022-07-14 09:24:29,270 [statisfactory.session.base_session] : DEBUG : Registering session's hook : 'set_AWS_client'\n",
      "2022-07-14 09:24:29,270 [statisfactory.session.base_session] : DEBUG : Registering session's hook : 'set_git_repo'\n",
      "2022-07-14 09:24:29,271 [statisfactory.session.base_session] : DEBUG : Registering session's hook : 'set_lakefs_client'\n",
      "2022-07-14 09:24:29,277 [statisfactory.session.base_session] : INFO : Initiating Statisfactory to : '/home/juhelh/10_projects/statisfactory/exemples/dummyRepo'\n",
      "2022-07-14 09:24:29,298 [statisfactory.session.base_session] : INFO : adding 'Lib' to PATH\n",
      "2022-07-14 09:24:29,299 [statisfactory.session.base_session] : INFO : setting PYTHONPATH to 'Lib'\n",
      "2022-07-14 09:24:29,300 [statisfactory.session.base_session] : INFO : Adding 'globals' to catalogs definitions.\n",
      "2022-07-14 09:24:29,301 [statisfactory.session.base_session] : INFO : Adding 'locals' to catalogs definitions.\n",
      "2022-07-14 09:24:29,441 [statisfactory.operator.craft] : DEBUG : adding Craft 'craft_foo' into 'fooer'\n",
      "2022-07-14 09:24:29,443 [statisfactory.operator.craft] : DEBUG : adding Craft 'craft_spam' into 'spamer'\n",
      "2022-07-14 09:24:29,443 [statisfactory.operator.craft] : DEBUG : adding Craft 'craft_foo' into 'fooer'\n",
      "2022-07-14 09:24:29,444 [statisfactory.operator.pipeline.pipeline] : DEBUG : merging pipeline 'fooer' into 'full'\n",
      "2022-07-14 09:24:29,445 [statisfactory.operator.craft] : DEBUG : adding Craft 'craft_spam' into 'spamer'\n",
      "2022-07-14 09:24:29,445 [statisfactory.operator.pipeline.pipeline] : DEBUG : merging pipeline 'spamer' into 'full'\n",
      "Warning : Session : the AWS client was not configured, as either (or both) aws_access_key and aws_secret_access_key were not found in the Globals / Locals configurations files. \n",
      "Warning : Session : the LakeFS client was not configured, as either (or both) lakefs_access_key, lakefs_secret_access_key and lakefs_endpoint were not found in the Globals / Locals configurations files. \n",
      "2022-07-14 09:24:29,447 [statisfactory.session.base_session] : INFO : All done ! You are ready to go ! ✨ 🍰 ✨\n"
     ]
    }
   ],
   "source": [
    "from pathlib import Path\n",
    "p = Path(\"exemples/dummyRepo/\").absolute()\n",
    "from statisfactory import Session\n",
    "sess = Session(root_folder=p)"
   ]
  },
  {
   "cell_type": "code",
   "execution_count": 34,
   "metadata": {},
   "outputs": [
    {
     "name": "stderr",
     "output_type": "stream",
     "text": [
      "Warning : Pipeline : Craft 'craft_spam' requires an out-of-pipeline Artifact 'foo_out' \n"
     ]
    }
   ],
   "source": [
    "from typing import List, Dict\n",
    "import json\n",
    "from pydantic.dataclasses import dataclass\n",
    "from pydantic.json import pydantic_encoder\n",
    "from statisfactory.operator.pipeline.solver import DAGSolver\n",
    "\n",
    "\n",
    "\n",
    "@dataclass\n",
    "class Manifest():\n",
    "    \"\"\"\n",
    "    Represent a minifest : a description of a stati project\n",
    "    \"\"\"\n",
    "        \n",
    "    @dataclass\n",
    "    class Craft():\n",
    "        module: str\n",
    "        name: str\n",
    "\n",
    "    \n",
    "    pipelines: Dict[str, List[List[Craft]]]\n",
    "\n",
    "    def json_dumps(self):\n",
    "        return json.dumps(manifest, default=pydantic_encoder, indent=2)\n",
    "\n",
    "\n",
    "pipelines = {}\n",
    "for pipeline_name, pipeline in sess.pipelines_definitions.items():\n",
    "    steps = []\n",
    "    for batch in DAGSolver(pipeline.crafts):\n",
    "        batch = [{'module': craft.__module__, 'name':craft.__name__} for craft in batch]\n",
    "        steps.append(batch)\n",
    "    pipelines[pipeline_name] = steps\n",
    "\n",
    "manifest = Manifest(pipelines=pipelines)\n"
   ]
  },
  {
   "cell_type": "code",
   "execution_count": 40,
   "metadata": {},
   "outputs": [],
   "source": [
    "from statisfactory.operator.annotations import AnnotationKind"
   ]
  },
  {
   "cell_type": "code",
   "execution_count": 41,
   "metadata": {},
   "outputs": [
    {
     "data": {
      "text/plain": [
       "['foo_out']"
      ]
     },
     "execution_count": 41,
     "metadata": {},
     "output_type": "execute_result"
    }
   ],
   "source": [
    "[anno.name for anno in craft.input_annotations if anno.kind in (AnnotationKind.ARTEFACT, AnnotationKind.VOLATILE)]\\\n",
    "\n",
    "inputs = {'volatiles':[], 'artifacts':[]}\n",
    "for annotation in craft.input_annotations:\n",
    "    if annotation.kind == AnnotationKind.VOLATILE:\n",
    "        inputs['volatiles'].append(annotation.name)\n",
    "    elif annotation.kind == AnnotationKind.ARTEFACT:\n",
    "        inputs['artifacts'].append(annotation.name)\n",
    "\n",
    "\n",
    "outputs = {'volatiles':[], 'artifacts':[]}\n",
    "for annotation in craft.input_annotations:\n",
    "    if annotation.kind == AnnotationKind.VOLATILE:\n",
    "        outputs['volatiles'].append(annotation.name)\n",
    "    elif annotation.kind == AnnotationKind.ARTEFACT:\n",
    "        outputs['artifacts'].append(annotation.name)\n",
    "\n"
   ]
  },
  {
   "cell_type": "code",
   "execution_count": 33,
   "metadata": {},
   "outputs": [
    {
     "name": "stdout",
     "output_type": "stream",
     "text": [
      "{\n",
      "  \"pipelines\": {\n",
      "    \"fooer\": [\n",
      "      [\n",
      "        {\n",
      "          \"module\": \"jupyter.foobar.craft_foo\",\n",
      "          \"name\": \"craft_foo\"\n",
      "        }\n",
      "      ]\n",
      "    ],\n",
      "    \"spamer\": [\n",
      "      [\n",
      "        {\n",
      "          \"module\": \"jupyter.spam.craft_spam\",\n",
      "          \"name\": \"craft_spam\"\n",
      "        }\n",
      "      ]\n",
      "    ],\n",
      "    \"full\": [\n",
      "      [\n",
      "        {\n",
      "          \"module\": \"jupyter.foobar.craft_foo\",\n",
      "          \"name\": \"craft_foo\"\n",
      "        }\n",
      "      ],\n",
      "      [\n",
      "        {\n",
      "          \"module\": \"jupyter.spam.craft_spam\",\n",
      "          \"name\": \"craft_spam\"\n",
      "        }\n",
      "      ]\n",
      "    ]\n",
      "  }\n",
      "}\n"
     ]
    }
   ],
   "source": []
  }
 ],
 "metadata": {
  "kernelspec": {
   "display_name": "Python 3.8.10 ('statisfactory-tVjzeiht-py3.8')",
   "language": "python",
   "name": "python3"
  },
  "language_info": {
   "codemirror_mode": {
    "name": "ipython",
    "version": 3
   },
   "file_extension": ".py",
   "mimetype": "text/x-python",
   "name": "python",
   "nbconvert_exporter": "python",
   "pygments_lexer": "ipython3",
   "version": "3.8.10"
  },
  "orig_nbformat": 4,
  "vscode": {
   "interpreter": {
    "hash": "151a2bcc92a57d90189473bfbf642e6733465c74b43db8a15224f536809c4ac5"
   }
  }
 },
 "nbformat": 4,
 "nbformat_minor": 2
}
