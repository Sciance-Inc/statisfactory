{
 "cells": [
  {
   "cell_type": "code",
   "execution_count": 1,
   "id": "ae07b0a5-8246-47ed-8b84-8bfd3091d9c3",
   "metadata": {},
   "outputs": [
    {
     "name": "stderr",
     "output_type": "stream",
     "text": [
      "2021-10-21 17:51:28,511 [statisfactory.IO.artefacts.artefact_interactor] : DEBUG : registering 'csv' interactor\n",
      "2021-10-21 17:51:28,516 [statisfactory.IO.artefacts.artefact_interactor] : DEBUG : registering 'xslx' interactor\n",
      "2021-10-21 17:51:28,518 [statisfactory.IO.artefacts.artefact_interactor] : DEBUG : registering 'pickle' interactor\n",
      "2021-10-21 17:51:28,520 [statisfactory.IO.artefacts.artefact_interactor] : DEBUG : registering 'odbc' interactor\n",
      "2021-10-21 17:51:28,523 [statisfactory.IO.artefacts.artefact_interactor] : DEBUG : registering 'datapane' interactor\n",
      "2021-10-21 17:51:28,524 [statisfactory.IO.artefacts.artefact_interactor] : DEBUG : registering 'binary' interactor\n",
      "2021-10-21 17:51:28,895 [statisfactory.operator.mixinHookable] : DEBUG : Registering Pipeline's on-error hook : 'propagate'\n",
      "2021-10-21 17:51:28,897 [statisfactory.operator.mixinHookable] : DEBUG : Registering _Craft's on-error hook : 'propagate'\n",
      "2021-10-21 17:51:29,217 [statisfactory.session.session] : DEBUG : Registering session's hook : 'set_path_and_pythonpath'\n",
      "2021-10-21 17:51:29,219 [statisfactory.session.session] : DEBUG : Registering session's hook : 'set_settings'\n",
      "2021-10-21 17:51:29,220 [statisfactory.session.session] : DEBUG : Registering session's hook : 'set_catalog'\n",
      "2021-10-21 17:51:29,222 [statisfactory.session.session] : DEBUG : Registering session's hook : 'set_pipelines_configurations'\n",
      "2021-10-21 17:51:29,224 [statisfactory.session.session] : DEBUG : Registering session's hook : 'set_pipelines_definitions'\n",
      "2021-10-21 17:51:29,226 [statisfactory.session.session] : DEBUG : Registering session's hook : 'set_AWS_client'\n",
      "2021-10-21 17:51:29,232 [statisfactory.session.session] : DEBUG : Registering session's hook : 'set_git_repo'\n",
      "2021-10-21 17:51:29,234 [statisfactory.session.session] : DEBUG : Registering session's hook : 'set_lakefs_client'\n"
     ]
    }
   ],
   "source": [
    "import pandas as pd\n",
    "from sklearn import datasets\n",
    "from sklearn.linear_model import LinearRegression\n",
    "\n",
    "# Import Statisfactory\n",
    "from statisfactory import Artefact, Craft, Pipeline, Session, Volatile"
   ]
  },
  {
   "cell_type": "code",
   "execution_count": 2,
   "id": "a4d4403c-55ba-4435-8f2e-a200fb6a4e57",
   "metadata": {},
   "outputs": [
    {
     "name": "stderr",
     "output_type": "stream",
     "text": [
      "2021-10-21 17:51:29,568 [statisfactory.session.session] : INFO : Initiating Statisfactory to : 'exemples/dummyRepo'\n",
      "2021-10-21 17:51:30,261 [statisfactory.session.session] : INFO : adding 'Lib' to PATH\n",
      "Warning : start-up : PYTHONPATH is already set and won't be overwritted by Statisfactoy : the sources from 'Lib' MIGHT not be reachable \n",
      "2021-10-21 17:51:30,564 [statisfactory.operator.craft] : DEBUG : adding Craft 'craft_spam' into 'spamer'\n",
      "2021-10-21 17:51:30,577 [statisfactory.operator.craft] : DEBUG : adding Craft 'craft_foo' into 'fooer'\n",
      "2021-10-21 17:51:30,579 [statisfactory.operator.pipeline.pipeline] : DEBUG : merging pipeline 'fooer' into 'full'\n",
      "2021-10-21 17:51:30,581 [statisfactory.operator.craft] : DEBUG : adding Craft 'craft_spam' into 'spamer'\n",
      "2021-10-21 17:51:30,582 [statisfactory.operator.pipeline.pipeline] : DEBUG : merging pipeline 'spamer' into 'full'\n",
      "2021-10-21 17:51:30,586 [statisfactory.operator.craft] : DEBUG : adding Craft 'craft_foo' into 'fooer'\n",
      "2021-10-21 17:51:30,877 [statisfactory.session.session] : DEBUG : The LakeFS exemple repo already exists.\n",
      "2021-10-21 17:51:30,880 [statisfactory.session.session] : INFO : All done ! You are ready to go ! ✨ 🍰 ✨\n"
     ]
    }
   ],
   "source": [
    "import pandas as pd\n",
    "from sklearn import datasets\n",
    "from sklearn.linear_model import LinearRegression\n",
    "import datapane as dp\n",
    "# Import Statisfactory\n",
    "from statisfactory import Artefact, Craft, Pipeline, Session, Volatile\n",
    "\n",
    "sess = Session(root_folder=\"exemples/dummyRepo/\")\n",
    "# Load a context and get the catalog from it.\n",
    "catalog = sess.catalog\n",
    "pipelines = sess.pipelines_definitions\n",
    "config = sess.pipelines_configurations"
   ]
  },
  {
   "cell_type": "code",
   "execution_count": 3,
   "metadata": {},
   "outputs": [
    {
     "name": "stderr",
     "output_type": "stream",
     "text": [
      "2021-10-21 17:51:33,063 [statisfactory.IO.artefacts.artefact_interactor] : DEBUG : saving 'pickle' : coeffs_minio_lake\n",
      "2021-10-21 17:51:33,224 [statisfactory.operator.craft] : DEBUG : craft 'foo' : capturing artefacts : 'coeffs_minio_lake'\n"
     ]
    }
   ],
   "source": [
    "@Craft()\n",
    "def foo() -> Artefact(\"coeffs_minio_lake\"):\n",
    "    \n",
    "    out = pd.DataFrame({\"a\":[1,2,3]})\n",
    "    return out\n",
    "\n",
    "p = foo\n",
    "with sess:\n",
    "    p(samples=10)"
   ]
  },
  {
   "cell_type": "code",
   "execution_count": 4,
   "id": "1d7d0d78-1190-47a4-92bb-312c2af98d61",
   "metadata": {},
   "outputs": [],
   "source": [
    "@Craft()\n",
    "def foo() -> Artefact(\"coeffs_minio\"):\n",
    "    \n",
    "    out = pd.DataFrame({\"a\":[1,2,3]})\n",
    "    return out\n",
    "\n",
    "@Craft()\n",
    "def bar() -> Artefact(\"coeffs_minio_xlsx\"):\n",
    "    \n",
    "    out = pd.DataFrame({\"a\":[1,2,3] * 10000})\n",
    "    return out\n",
    "\n",
    "@Craft()\n",
    "def spam(coeffs_minio: Artefact) ->Artefact(\"report_lake\"):\n",
    "    r = dp.Report(dp.Table(coeffs_minio))\n",
    "    return r\n",
    "    "
   ]
  },
  {
   "cell_type": "code",
   "execution_count": 5,
   "id": "988dada0-94b3-4d04-9b27-d7981364d890",
   "metadata": {},
   "outputs": [
    {
     "name": "stderr",
     "output_type": "stream",
     "text": [
      "2021-10-21 17:51:38,496 [statisfactory.operator.craft] : DEBUG : adding Craft 'foo' into 'noName'\n",
      "2021-10-21 17:51:38,499 [statisfactory.operator.craft] : DEBUG : adding Craft 'spam' into 'noName'\n",
      "2021-10-21 17:51:38,500 [statisfactory.operator.craft] : DEBUG : adding Craft 'bar' into 'noName'\n",
      "2021-10-21 17:51:38,502 [statisfactory.operator.pipeline.pipeline] : INFO : Starting pipeline 'noName' execution\n",
      "2021-10-21 17:51:38,504 [statisfactory.operator.pipeline.runner] : INFO : running craft 'bar'.\n",
      "2021-10-21 17:51:38,508 [statisfactory.operator.pipeline.runner] : INFO : Executing bar with execution context : \n",
      " {'samples': 10}\n",
      "2021-10-21 17:51:38,547 [statisfactory.IO.artefacts.artefact_interactor] : DEBUG : saving 'csv' : coeffs_minio_xlsx\n",
      "2021-10-21 17:51:39,125 [statisfactory.operator.craft] : DEBUG : craft 'bar' : capturing artefacts : 'coeffs_minio_xlsx'\n",
      "2021-10-21 17:51:39,127 [statisfactory.operator.pipeline.runner] : INFO : Completed 1 out of 3 tasks.\n",
      "2021-10-21 17:51:39,128 [statisfactory.operator.pipeline.runner] : INFO : running craft 'foo'.\n",
      "2021-10-21 17:51:39,130 [statisfactory.operator.pipeline.runner] : INFO : Executing foo with execution context : \n",
      " {'samples': 10}\n",
      "2021-10-21 17:51:39,132 [statisfactory.IO.artefacts.artefact_interactor] : DEBUG : saving 'pickle' : coeffs_minio\n",
      "2021-10-21 17:51:39,347 [statisfactory.operator.craft] : DEBUG : craft 'foo' : capturing artefacts : 'coeffs_minio'\n",
      "2021-10-21 17:51:39,349 [statisfactory.operator.pipeline.runner] : INFO : Completed 2 out of 3 tasks.\n",
      "2021-10-21 17:51:39,350 [statisfactory.operator.pipeline.runner] : INFO : running craft 'spam'.\n",
      "2021-10-21 17:51:39,352 [statisfactory.operator.pipeline.runner] : INFO : Executing spam with execution context : \n",
      " {'samples': 10}\n",
      "2021-10-21 17:51:39,354 [statisfactory.IO.artefacts.artefact_interactor] : DEBUG : loading 'pickle' : coeffs_minio\n",
      "2021-10-21 17:51:41,182 [statisfactory.IO.artefacts.artefact_interactor] : DEBUG : saving 'datapane' : report_lake\n",
      "2021-10-21 17:51:41,313 [statisfactory.operator.craft] : DEBUG : craft 'spam' : capturing artefacts : 'report_lake'\n",
      "2021-10-21 17:51:41,315 [statisfactory.operator.pipeline.runner] : INFO : Completed 3 out of 3 tasks.\n",
      "2021-10-21 17:51:41,317 [statisfactory.operator.pipeline.pipeline] : INFO : pipeline 'noName' succeded.\n"
     ]
    }
   ],
   "source": [
    "p = foo + spam + bar\n",
    "with sess:\n",
    "    p(samples=10)"
   ]
  }
 ],
 "metadata": {
  "interpreter": {
   "hash": "fd9652ccad2097f57e0249a47ce362849f9053bf5f294ab84bd84d1d8f8928df"
  },
  "kernelspec": {
   "display_name": "Python 3.8.10 64-bit ('statisfactory-jQ5FA648-py3.8': poetry)",
   "name": "python3"
  },
  "language_info": {
   "codemirror_mode": {
    "name": "ipython",
    "version": 3
   },
   "file_extension": ".py",
   "mimetype": "text/x-python",
   "name": "python",
   "nbconvert_exporter": "python",
   "pygments_lexer": "ipython3",
   "version": "3.8.10"
  }
 },
 "nbformat": 4,
 "nbformat_minor": 5
}
