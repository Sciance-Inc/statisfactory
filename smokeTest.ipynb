{
 "cells": [
  {
   "cell_type": "code",
   "execution_count": null,
   "id": "ae07b0a5-8246-47ed-8b84-8bfd3091d9c3",
   "metadata": {},
   "outputs": [],
   "source": [
    "import pandas as pd\n",
    "from sklearn import datasets\n",
    "from sklearn.linear_model import LinearRegression\n",
    "\n",
    "# Import Statisfactory\n",
    "from statisfactory import Artefact, Craft, Pipeline, Session, Volatile"
   ]
  },
  {
   "cell_type": "code",
   "execution_count": 1,
   "id": "a4d4403c-55ba-4435-8f2e-a200fb6a4e57",
   "metadata": {},
   "outputs": [
    {
     "name": "stderr",
     "output_type": "stream",
     "text": [
      "2021-10-20 19:01:16,335 [statisfactory.IO.artefacts.artefact_interactor] : DEBUG : registering 'csv' interactor\n",
      "2021-10-20 19:01:16,336 [statisfactory.IO.artefacts.artefact_interactor] : DEBUG : registering 'xslx' interactor\n",
      "2021-10-20 19:01:16,337 [statisfactory.IO.artefacts.artefact_interactor] : DEBUG : registering 'pickle' interactor\n",
      "2021-10-20 19:01:16,338 [statisfactory.IO.artefacts.artefact_interactor] : DEBUG : registering 'odbc' interactor\n",
      "2021-10-20 19:01:16,339 [statisfactory.IO.artefacts.artefact_interactor] : DEBUG : registering 'datapane' interactor\n",
      "2021-10-20 19:01:16,341 [statisfactory.IO.artefacts.artefact_interactor] : DEBUG : registering 'binary' interactor\n",
      "2021-10-20 19:01:16,438 [statisfactory.operator.mixinHookable] : DEBUG : Registering Pipeline's on-error hook : 'propagate'\n",
      "2021-10-20 19:01:16,439 [statisfactory.operator.mixinHookable] : DEBUG : Registering _Craft's on-error hook : 'propagate'\n",
      "2021-10-20 19:01:16,538 [statisfactory.session.session] : DEBUG : Registering session's hook : 'set_path_and_pythonpath'\n",
      "2021-10-20 19:01:16,540 [statisfactory.session.session] : DEBUG : Registering session's hook : 'set_settings'\n",
      "2021-10-20 19:01:16,540 [statisfactory.session.session] : DEBUG : Registering session's hook : 'set_catalog'\n",
      "2021-10-20 19:01:16,541 [statisfactory.session.session] : DEBUG : Registering session's hook : 'set_pipelines_configurations'\n",
      "2021-10-20 19:01:16,542 [statisfactory.session.session] : DEBUG : Registering session's hook : 'set_pipelines_definitions'\n",
      "2021-10-20 19:01:16,543 [statisfactory.session.session] : DEBUG : Registering session's hook : 'set_AWS_client'\n",
      "2021-10-20 19:01:16,545 [statisfactory.session.session] : INFO : Initiating Statisfactory to : 'exemples/dummyRepo'\n",
      "2021-10-20 19:01:16,835 [statisfactory.session.session] : INFO : adding 'Lib' to PATH\n",
      "2021-10-20 19:01:16,836 [statisfactory.session.session] : INFO : setting PYTHONPATH to 'Lib'\n",
      "2021-10-20 19:01:16,934 [statisfactory.operator.craft] : DEBUG : adding Craft 'craft_spam' into 'spamer'\n",
      "2021-10-20 19:01:16,938 [statisfactory.operator.craft] : DEBUG : adding Craft 'craft_foo' into 'fooer'\n",
      "2021-10-20 19:01:16,939 [statisfactory.operator.craft] : DEBUG : adding Craft 'craft_foo' into 'fooer'\n",
      "2021-10-20 19:01:16,940 [statisfactory.operator.pipeline.pipeline] : DEBUG : merging pipeline 'fooer' into 'full'\n",
      "2021-10-20 19:01:16,942 [statisfactory.operator.craft] : DEBUG : adding Craft 'craft_spam' into 'spamer'\n",
      "2021-10-20 19:01:16,943 [statisfactory.operator.pipeline.pipeline] : DEBUG : merging pipeline 'spamer' into 'full'\n",
      "2021-10-20 19:01:16,962 [statisfactory.session.session] : INFO : All done ! You are ready to go ! ✨ 🍰 ✨\n"
     ]
    }
   ],
   "source": [
    "import pandas as pd\n",
    "from sklearn import datasets\n",
    "from sklearn.linear_model import LinearRegression\n",
    "import datapane as dp\n",
    "# Import Statisfactory\n",
    "from statisfactory import Artefact, Craft, Pipeline, Session, Volatile\n",
    "\n",
    "sess = Session(root_folder=\"exemples/dummyRepo/\")\n",
    "# Load a context and get the catalog from it.\n",
    "catalog = sess.catalog\n",
    "pipelines = sess.pipelines_definitions\n",
    "config = sess.pipelines_configurations"
   ]
  },
  {
   "cell_type": "code",
   "execution_count": 5,
   "id": "1d7d0d78-1190-47a4-92bb-312c2af98d61",
   "metadata": {},
   "outputs": [],
   "source": [
    "@Craft()\n",
    "def foo() -> Artefact(\"coeffs_minio\"):\n",
    "    \n",
    "    out = pd.DataFrame({\"a\":[1,2,3]})\n",
    "    return out\n",
    "\n",
    "@Craft()\n",
    "def bar() -> Artefact(\"coeffs_minio_xlsx\"):\n",
    "    \n",
    "    out = pd.DataFrame({\"a\":[1,2,3] * 10000})\n",
    "    return out\n",
    "\n",
    "@Craft()\n",
    "def spam(coeffs_minio: Artefact) ->Artefact(\"report_local\"):\n",
    "    r = dp.Report(dp.Table(coeffs_minio))\n",
    "    return r\n",
    "    "
   ]
  },
  {
   "cell_type": "code",
   "execution_count": 6,
   "id": "988dada0-94b3-4d04-9b27-d7981364d890",
   "metadata": {},
   "outputs": [
    {
     "name": "stderr",
     "output_type": "stream",
     "text": [
      "2021-10-20 19:02:02,863 [statisfactory.operator.craft] : DEBUG : adding Craft 'foo' into 'noName'\n",
      "2021-10-20 19:02:02,866 [statisfactory.operator.craft] : DEBUG : adding Craft 'spam' into 'noName'\n",
      "2021-10-20 19:02:02,868 [statisfactory.operator.craft] : DEBUG : adding Craft 'bar' into 'noName'\n",
      "2021-10-20 19:02:02,869 [statisfactory.operator.pipeline.pipeline] : INFO : Starting pipeline 'noName' execution\n",
      "2021-10-20 19:02:02,871 [statisfactory.operator.pipeline.runner] : INFO : running craft 'bar'.\n",
      "2021-10-20 19:02:02,874 [statisfactory.operator.pipeline.runner] : INFO : Executing bar with execution context : \n",
      " {'samples': 10}\n",
      "2021-10-20 19:02:02,900 [statisfactory.IO.artefacts.artefact_interactor] : DEBUG : saving 'csv' : coeffs_minio_xlsx\n",
      "2021-10-20 19:02:03,353 [statisfactory.operator.craft] : DEBUG : craft 'bar' : capturing artefacts : 'coeffs_minio_xlsx'\n",
      "2021-10-20 19:02:03,354 [statisfactory.operator.pipeline.runner] : INFO : Completed 1 out of 3 tasks.\n",
      "2021-10-20 19:02:03,356 [statisfactory.operator.pipeline.runner] : INFO : running craft 'foo'.\n",
      "2021-10-20 19:02:03,357 [statisfactory.operator.pipeline.runner] : INFO : Executing foo with execution context : \n",
      " {'samples': 10}\n",
      "2021-10-20 19:02:03,359 [statisfactory.IO.artefacts.artefact_interactor] : DEBUG : saving 'pickle' : coeffs_minio\n",
      "2021-10-20 19:02:03,496 [statisfactory.operator.craft] : DEBUG : craft 'foo' : capturing artefacts : 'coeffs_minio'\n",
      "2021-10-20 19:02:03,497 [statisfactory.operator.pipeline.runner] : INFO : Completed 2 out of 3 tasks.\n",
      "2021-10-20 19:02:03,499 [statisfactory.operator.pipeline.runner] : INFO : running craft 'spam'.\n",
      "2021-10-20 19:02:03,500 [statisfactory.operator.pipeline.runner] : INFO : Executing spam with execution context : \n",
      " {'samples': 10}\n",
      "2021-10-20 19:02:03,501 [statisfactory.IO.artefacts.artefact_interactor] : DEBUG : loading 'pickle' : coeffs_minio\n",
      "2021-10-20 19:02:03,607 [statisfactory.IO.artefacts.artefact_interactor] : DEBUG : saving 'datapane' : report_local\n"
     ]
    },
    {
     "data": {
      "text/markdown": [
       "Report saved to .//tmp/tmpiqx0ll0k/report.html. To upload and share your report, create a free Datapane account by running `!datapane signup`."
      ],
      "text/plain": [
       "<IPython.core.display.Markdown object>"
      ]
     },
     "metadata": {},
     "output_type": "display_data"
    },
    {
     "name": "stderr",
     "output_type": "stream",
     "text": [
      "2021-10-20 19:02:03,685 [statisfactory.operator.craft] : DEBUG : craft 'spam' : capturing artefacts : 'report_local'\n",
      "2021-10-20 19:02:03,686 [statisfactory.operator.pipeline.runner] : INFO : Completed 3 out of 3 tasks.\n",
      "2021-10-20 19:02:03,688 [statisfactory.operator.pipeline.pipeline] : INFO : pipeline 'noName' succeded.\n"
     ]
    }
   ],
   "source": [
    "p = foo + spam + bar\n",
    "with sess:\n",
    "    p(samples=10)"
   ]
  },
  {
   "cell_type": "code",
   "execution_count": null,
   "id": "6a6489a6-8640-4cc1-9a07-fe75e99253cc",
   "metadata": {},
   "outputs": [],
   "source": [
    "catalog.load(\"coeffs_minio_xlsx\", samples=10)"
   ]
  }
 ],
 "metadata": {
  "kernelspec": {
   "display_name": "Python 3",
   "language": "python",
   "name": "python3"
  },
  "language_info": {
   "codemirror_mode": {
    "name": "ipython",
    "version": 3
   },
   "file_extension": ".py",
   "mimetype": "text/x-python",
   "name": "python",
   "nbconvert_exporter": "python",
   "pygments_lexer": "ipython3",
   "version": "3.8.10"
  }
 },
 "nbformat": 4,
 "nbformat_minor": 5
}
