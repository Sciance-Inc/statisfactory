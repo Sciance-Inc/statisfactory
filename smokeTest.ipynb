{
 "cells": [
  {
   "cell_type": "code",
   "execution_count": 1,
   "id": "ae07b0a5-8246-47ed-8b84-8bfd3091d9c3",
   "metadata": {},
   "outputs": [
    {
     "name": "stderr",
     "output_type": "stream",
     "text": [
      "2021-10-28 12:54:36,850 [statisfactory.IO.artefacts.backend] : DEBUG : Registering 's3' backend\n",
      "2021-10-28 12:54:36,851 [statisfactory.IO.artefacts.backend] : DEBUG : Registering '' backend\n",
      "2021-10-28 12:54:36,852 [statisfactory.IO.artefacts.backend] : DEBUG : Registering 'lakefs' backend\n",
      "2021-10-28 12:54:36,853 [statisfactory.IO.artefacts.artefact_interactor] : DEBUG : registering 'csv' interactor\n",
      "2021-10-28 12:54:36,853 [statisfactory.IO.artefacts.artefact_interactor] : DEBUG : registering 'xslx' interactor\n",
      "2021-10-28 12:54:36,854 [statisfactory.IO.artefacts.artefact_interactor] : DEBUG : registering 'pickle' interactor\n",
      "2021-10-28 12:54:36,854 [statisfactory.IO.artefacts.artefact_interactor] : DEBUG : registering 'odbc' interactor\n",
      "2021-10-28 12:54:36,855 [statisfactory.IO.artefacts.artefact_interactor] : DEBUG : registering 'datapane' interactor\n",
      "2021-10-28 12:54:36,855 [statisfactory.IO.artefacts.artefact_interactor] : DEBUG : registering 'binary' interactor\n",
      "2021-10-28 12:54:36,902 [statisfactory.operator.mixinHookable] : DEBUG : Registering Pipeline's on-error hook : 'propagate'\n",
      "2021-10-28 12:54:36,903 [statisfactory.operator.mixinHookable] : DEBUG : Registering _Craft's on-error hook : 'propagate'\n",
      "2021-10-28 12:54:37,044 [statisfactory.session.session] : DEBUG : Registering session's hook : 'set_path_and_pythonpath'\n",
      "2021-10-28 12:54:37,045 [statisfactory.session.session] : DEBUG : Registering session's hook : 'set_settings'\n",
      "2021-10-28 12:54:37,045 [statisfactory.session.session] : DEBUG : Registering session's hook : 'set_catalog'\n",
      "2021-10-28 12:54:37,046 [statisfactory.session.session] : DEBUG : Registering session's hook : 'set_pipelines_configurations'\n",
      "2021-10-28 12:54:37,046 [statisfactory.session.session] : DEBUG : Registering session's hook : 'set_pipelines_definitions'\n",
      "2021-10-28 12:54:37,046 [statisfactory.session.session] : DEBUG : Registering session's hook : 'set_AWS_client'\n",
      "2021-10-28 12:54:37,047 [statisfactory.session.session] : DEBUG : Registering session's hook : 'set_git_repo'\n",
      "2021-10-28 12:54:37,048 [statisfactory.session.session] : DEBUG : Registering session's hook : 'set_lakefs_client'\n"
     ]
    }
   ],
   "source": [
    "import pandas as pd\n",
    "from sklearn import datasets\n",
    "from sklearn.linear_model import LinearRegression\n",
    "\n",
    "# Import Statisfactory\n",
    "from statisfactory import Artefact, Craft, Pipeline, Session, Volatile"
   ]
  },
  {
   "cell_type": "code",
   "execution_count": 2,
   "id": "a4d4403c-55ba-4435-8f2e-a200fb6a4e57",
   "metadata": {},
   "outputs": [
    {
     "name": "stderr",
     "output_type": "stream",
     "text": [
      "2021-10-28 12:54:39,828 [statisfactory.session.session] : INFO : Initiating Statisfactory to : 'exemples/dummyRepo'\n",
      "2021-10-28 12:54:39,948 [statisfactory.session.session] : INFO : adding 'Lib' to PATH\n",
      "Warning : start-up : PYTHONPATH is already set and won't be overwritted by Statisfactoy : the sources from 'Lib' MIGHT not be reachable \n",
      "2021-10-28 12:54:40,002 [statisfactory.operator.craft] : DEBUG : adding Craft 'craft_spam' into 'spamer'\n",
      "2021-10-28 12:54:40,003 [statisfactory.operator.craft] : DEBUG : adding Craft 'craft_foo' into 'fooer'\n",
      "2021-10-28 12:54:40,004 [statisfactory.operator.pipeline.pipeline] : DEBUG : merging pipeline 'fooer' into 'full'\n",
      "2021-10-28 12:54:40,004 [statisfactory.operator.craft] : DEBUG : adding Craft 'craft_spam' into 'spamer'\n",
      "2021-10-28 12:54:40,004 [statisfactory.operator.pipeline.pipeline] : DEBUG : merging pipeline 'spamer' into 'full'\n",
      "2021-10-28 12:54:40,005 [statisfactory.operator.craft] : DEBUG : adding Craft 'craft_foo' into 'fooer'\n",
      "2021-10-28 12:54:40,161 [statisfactory.session.session] : DEBUG : The LakeFS exemple repo already exists.\n",
      "2021-10-28 12:54:40,162 [statisfactory.session.session] : INFO : All done ! You are ready to go ! ✨ 🍰 ✨\n"
     ]
    }
   ],
   "source": [
    "import pandas as pd\n",
    "from sklearn import datasets\n",
    "from sklearn.linear_model import LinearRegression\n",
    "import datapane as dp\n",
    "# Import Statisfactory\n",
    "from statisfactory import Artefact, Craft, Pipeline, Session, Volatile\n",
    "\n",
    "sess = Session(root_folder=\"exemples/dummyRepo/\")\n",
    "# Load a context and get the catalog from it.\n",
    "catalog = sess.catalog\n",
    "pipelines = sess.pipelines_definitions\n",
    "config = sess.pipelines_configurations"
   ]
  },
  {
   "cell_type": "code",
   "execution_count": 4,
   "id": "6e6442e3",
   "metadata": {},
   "outputs": [
    {
     "name": "stderr",
     "output_type": "stream",
     "text": [
      "2021-10-28 12:49:19,909 [statisfactory.IO.artefacts.artefact_interactor] : DEBUG : saving 'pickle' : coeffs_minio_lake\n",
      "2021-10-28 12:49:20,043 [statisfactory.operator.craft] : DEBUG : craft 'foo' : capturing artefacts : 'coeffs_minio_lake'\n"
     ]
    }
   ],
   "source": [
    "@Craft()\n",
    "def foo() -> Artefact(\"coeffs_minio_lake\"):\n",
    "    \n",
    "    out = pd.DataFrame({\"a\":[1,2,3]})\n",
    "    return out\n",
    "\n",
    "p = foo\n",
    "with sess:\n",
    "    p(samples=10, ref=3)"
   ]
  },
  {
   "cell_type": "code",
   "execution_count": 14,
   "id": "6ee923c1",
   "metadata": {},
   "outputs": [
    {
     "data": {
      "text/plain": [
       "{'a': 1}"
      ]
     },
     "execution_count": 14,
     "metadata": {},
     "output_type": "execute_result"
    }
   ],
   "source": [
    "from inspect import signature, Parameter\n",
    "from typing import Callable, Dict, Any\n",
    "\n",
    "def _dispatch(callable: Callable, **kwargs) -> Dict[str, Any]:\n",
    "    \"\"\"\n",
    "    Dispatch the variadic arguments the callable.\n",
    "\n",
    "    Args:\n",
    "        callable (Callable): The callable to dispatch arguments to.\n",
    "    \"\"\"\n",
    "\n",
    "    sng = signature(callable)\n",
    "\n",
    "    # If the callable accepts variadic keywords args, send them all\n",
    "    has_variadics = any(p for p in sng.parameters.values() if p.kind == Parameter.VAR_KEYWORD)\n",
    "    if has_variadics:\n",
    "        return kwargs\n",
    "    \n",
    "    # Filter out non used arguments\n",
    "    valids = set(p for p in sng.parameters.values())\n",
    "    args = {k:v for k, v in kwargs.items() if k in valids}\n",
    "\n",
    "    return args\n",
    "\n",
    "\n",
    "    \n",
    "\n",
    "\n"
   ]
  },
  {
   "cell_type": "code",
   "execution_count": 6,
   "id": "1d7d0d78-1190-47a4-92bb-312c2af98d61",
   "metadata": {},
   "outputs": [],
   "source": [
    "@Craft()\n",
    "def foo() -> Artefact(\"coeffs_minio\"):\n",
    "    \n",
    "    out = pd.DataFrame({\"a\":[1,2,3]})\n",
    "    return out\n",
    "\n",
    "@Craft()\n",
    "def bar() -> Artefact(\"coeffs_minio_xlsx\"):\n",
    "    \n",
    "    out = pd.DataFrame({\"a\":[1,2,3] * 10000})\n",
    "    return out\n",
    "\n",
    "@Craft()\n",
    "def spam(coeffs_minio: Artefact) ->Artefact(\"report_lake\"):\n",
    "    r = dp.Report(dp.Table(coeffs_minio))\n",
    "    return r\n",
    "\n",
    "@Craft()\n",
    "def spam2(coeffs_minio: Artefact) ->Artefact(\"report\"):\n",
    "    r = dp.Report(dp.Table(coeffs_minio))\n",
    "    return r\n",
    "    "
   ]
  },
  {
   "cell_type": "code",
   "execution_count": 9,
   "id": "988dada0-94b3-4d04-9b27-d7981364d890",
   "metadata": {},
   "outputs": [
    {
     "name": "stderr",
     "output_type": "stream",
     "text": [
      "2021-10-28 11:47:43,743 [statisfactory.operator.craft] : DEBUG : adding Craft 'foo' into 'noName'\n",
      "2021-10-28 11:47:43,744 [statisfactory.operator.craft] : DEBUG : adding Craft 'spam' into 'noName'\n",
      "2021-10-28 11:47:43,744 [statisfactory.operator.craft] : DEBUG : adding Craft 'bar' into 'noName'\n",
      "2021-10-28 11:47:43,745 [statisfactory.operator.craft] : DEBUG : adding Craft 'spam2' into 'noName'\n",
      "2021-10-28 11:47:43,745 [statisfactory.operator.pipeline.pipeline] : INFO : Starting pipeline 'noName' execution\n",
      "2021-10-28 11:47:43,746 [statisfactory.operator.pipeline.runner] : INFO : running craft 'foo'.\n",
      "2021-10-28 11:47:43,746 [statisfactory.operator.pipeline.runner] : INFO : Executing foo with execution context : \n",
      " {'samples': 10}\n",
      "2021-10-28 11:47:43,747 [statisfactory.IO.artefacts.artefact_interactor] : DEBUG : saving 'pickle' : coeffs_minio\n",
      "2021-10-28 11:47:44,126 [statisfactory.operator.craft] : DEBUG : craft 'foo' : capturing artefacts : 'coeffs_minio'\n",
      "2021-10-28 11:47:44,126 [statisfactory.operator.pipeline.runner] : INFO : Completed 1 out of 4 tasks.\n",
      "2021-10-28 11:47:44,127 [statisfactory.operator.pipeline.runner] : INFO : running craft 'bar'.\n",
      "2021-10-28 11:47:44,127 [statisfactory.operator.pipeline.runner] : INFO : Executing bar with execution context : \n",
      " {'samples': 10}\n",
      "2021-10-28 11:47:44,132 [statisfactory.IO.artefacts.artefact_interactor] : DEBUG : saving 'csv' : coeffs_minio_xlsx\n",
      "2021-10-28 11:47:44,594 [statisfactory.operator.craft] : DEBUG : craft 'bar' : capturing artefacts : 'coeffs_minio_xlsx'\n",
      "2021-10-28 11:47:44,594 [statisfactory.operator.pipeline.runner] : INFO : Completed 2 out of 4 tasks.\n",
      "2021-10-28 11:47:44,595 [statisfactory.operator.pipeline.runner] : INFO : running craft 'spam'.\n",
      "2021-10-28 11:47:44,595 [statisfactory.operator.pipeline.runner] : INFO : Executing spam with execution context : \n",
      " {'samples': 10}\n",
      "2021-10-28 11:47:44,595 [statisfactory.IO.artefacts.artefact_interactor] : DEBUG : loading 'pickle' : coeffs_minio\n",
      "2021-10-28 11:47:45,086 [statisfactory.IO.artefacts.artefact_interactor] : DEBUG : saving 'datapane' : report_lake\n",
      "2021-10-28 11:47:45,254 [statisfactory.operator.craft] : DEBUG : craft 'spam' : capturing artefacts : 'report_lake'\n",
      "2021-10-28 11:47:45,254 [statisfactory.operator.pipeline.runner] : INFO : Completed 3 out of 4 tasks.\n",
      "2021-10-28 11:47:45,255 [statisfactory.operator.pipeline.runner] : INFO : running craft 'spam2'.\n",
      "2021-10-28 11:47:45,255 [statisfactory.operator.pipeline.runner] : INFO : Executing spam2 with execution context : \n",
      " {'samples': 10}\n",
      "2021-10-28 11:47:45,256 [statisfactory.IO.artefacts.artefact_interactor] : DEBUG : loading 'pickle' : coeffs_minio\n",
      "2021-10-28 11:47:45,436 [statisfactory.IO.artefacts.artefact_interactor] : DEBUG : saving 'datapane' : report\n",
      "2021-10-28 11:47:45,630 [statisfactory.operator.craft] : DEBUG : craft 'spam2' : capturing artefacts : 'report'\n",
      "2021-10-28 11:47:45,630 [statisfactory.operator.pipeline.runner] : INFO : Completed 4 out of 4 tasks.\n",
      "2021-10-28 11:47:45,631 [statisfactory.operator.pipeline.pipeline] : INFO : pipeline 'noName' succeded.\n"
     ]
    }
   ],
   "source": [
    "p = foo + spam + bar + spam2\n",
    "#p.plot()\n",
    "with sess:\n",
    "    p(samples=10)"
   ]
  },
  {
   "cell_type": "code",
   "execution_count": 3,
   "id": "3d1f032a",
   "metadata": {},
   "outputs": [
    {
     "name": "stderr",
     "output_type": "stream",
     "text": [
      "2021-10-28 12:54:47,436 [statisfactory.IO.artefacts.artefact_interactor] : DEBUG : loading 'pickle' : coeffs_minio_lake\n"
     ]
    }
   ],
   "source": [
    "catalog = sess.catalog\n",
    "out = catalog.load(\"coeffs_minio_lake\", samples=10, lake_ref=\"main\")"
   ]
  }
 ],
 "metadata": {
  "interpreter": {
   "hash": "151a2bcc92a57d90189473bfbf642e6733465c74b43db8a15224f536809c4ac5"
  },
  "kernelspec": {
   "display_name": "Python 3.8.10 64-bit ('statisfactory-tVjzeiht-py3.8': poetry)",
   "name": "python3"
  },
  "language_info": {
   "codemirror_mode": {
    "name": "ipython",
    "version": 3
   },
   "file_extension": ".py",
   "mimetype": "text/x-python",
   "name": "python",
   "nbconvert_exporter": "python",
   "pygments_lexer": "ipython3",
   "version": "3.8.10"
  }
 },
 "nbformat": 4,
 "nbformat_minor": 5
}
